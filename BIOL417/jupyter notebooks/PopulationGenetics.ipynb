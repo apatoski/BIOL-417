{
 "cells": [
  {
   "cell_type": "code",
   "execution_count": 1,
   "metadata": {
    "scrolled": true
   },
   "outputs": [],
   "source": [
    "%matplotlib inline\n",
    "import numpy as np\n",
    "import matplotlib.pyplot as plt"
   ]
  },
  {
   "cell_type": "markdown",
   "metadata": {},
   "source": [
    "# Natural selection (w/ drift!) demonstration\n",
    "## Erol Akçay\n",
    "### University of Pennsylvania, Biol 417 Spring 2019"
   ]
  },
  {
   "cell_type": "markdown",
   "metadata": {},
   "source": [
    "#### Haploid case"
   ]
  },
  {
   "cell_type": "markdown",
   "metadata": {},
   "source": [
    "Let's first look at the haploid case. First define a function that simply gives the frequency in the next generation."
   ]
  },
  {
   "cell_type": "code",
   "execution_count": 3,
   "metadata": {},
   "outputs": [],
   "source": [
    "def pprime(p,wA,wB):\n",
    "    return wA*p/(wA*p+wB*(1-p))"
   ]
  },
  {
   "cell_type": "markdown",
   "metadata": {},
   "source": [
    "Let's iterate this function with particular fitness values"
   ]
  },
  {
   "cell_type": "code",
   "execution_count": 6,
   "metadata": {},
   "outputs": [
    {
     "data": {
      "text/plain": [
       "[<matplotlib.lines.Line2D at 0x11dbf9710>]"
      ]
     },
     "execution_count": 6,
     "metadata": {},
     "output_type": "execute_result"
    },
    {
     "data": {
      "image/png": "[encoded data removed]",
      "text/plain": [
       "<Figure size 432x288 with 1 Axes>"
      ]
     },
     "metadata": {
      "needs_background": "light"
     },
     "output_type": "display_data"
    }
   ],
   "source": [
    "duration=100\n",
    "phist=np.zeros(duration)\n",
    "phist[0]=.01\n",
    "wAA, wBB = (1.2,1)\n",
    "for i in range(duration-1):\n",
    "    phist[i+1]=pprime(phist[i],wAA,wBB)\n",
    "plt.plot(phist)"
   ]
  },
  {
   "cell_type": "markdown",
   "metadata": {},
   "source": [
    "Allele A has higher fitness than B so not surprisingly, it increases in frequency until it reaches 1 (or fixes in the population, as one says)."
   ]
  },
  {
   "cell_type": "markdown",
   "metadata": {},
   "source": [
    "Now, let's look at the finite population case. In the finite population, who gets to be picked to make up the next generation is stochastic. What we'll assume is that each individual makes a large number of \"propagules\" (i.e., offspring that have not yet established themselves). The number of propagules produced by each individual is proportional to the fitness of the alleles they carry. The next generation is then a randomly selected sample from this large propagule pool.\n",
    "\n",
    "Suppose at the beginning of one life-cycle, the frequency of individuals carrying allele A is p. Then, the frequency of propagules carrying the A allele is simply:\n",
    "$$\n",
    "p_{prop}=\\frac{pNw_A}{pNw_A+(1-p)Nw_B}=\\frac{w_A}{\\bar{w}}p\\:,\n",
    "$$\n",
    "so, the same as the frequency in the next generation in the deterministic model. But now the actual frequency of the next generation is a binomial random variable, with parameters $N$ and $p_{prop}$.\n",
    "\n",
    "Let's construct a function that iterates this stochastic life-cycle. "
   ]
  },
  {
   "cell_type": "code",
   "execution_count": 19,
   "metadata": {},
   "outputs": [],
   "source": [
    "def stochLife(N,p,wA,wB):\n",
    "    pprop=wA*p/(wA*p+wB*(1-p))\n",
    "    newpop=np.random.binomial(N,pprop)\n",
    "    return newpop/N"
   ]
  },
  {
   "cell_type": "code",
   "execution_count": 28,
   "metadata": {},
   "outputs": [
    {
     "data": {
      "text/plain": [
       "0.25"
      ]
     },
     "execution_count": 28,
     "metadata": {},
     "output_type": "execute_result"
    }
   ],
   "source": [
    "stochLife(100,.2,1,1)"
   ]
  },
  {
   "cell_type": "markdown",
   "metadata": {},
   "source": [
    "Let's first look at a case with neutral alleles, i.e., both alleles have the same fitness. The code below iterates the function for some amount of time"
   ]
  },
  {
   "cell_type": "code",
   "execution_count": 37,
   "metadata": {},
   "outputs": [
    {
     "data": {
      "text/plain": [
       "[<matplotlib.lines.Line2D at 0x11e371080>]"
      ]
     },
     "execution_count": 37,
     "metadata": {},
     "output_type": "execute_result"
    },
    {
     "data": {
      "image/png": "[encoded data removed]",
      "text/plain": [
       "<Figure size 432x288 with 1 Axes>"
      ]
     },
     "metadata": {
      "needs_background": "light"
     },
     "output_type": "display_data"
    }
   ],
   "source": [
    "n=20\n",
    "duration=100\n",
    "phistst=np.zeros(duration)\n",
    "phistst[0]=.5\n",
    "wAA, wBB = (1,1)\n",
    "for i in range(duration-1):\n",
    "    phistst[i+1]=stochLife(n,phistst[i],wAA,wBB)\n",
    "plt.plot(phistst)"
   ]
  },
  {
   "cell_type": "markdown",
   "metadata": {},
   "source": [
    "What you can observe is that in each iteration, the population seems to fix for one or the other allele. This is called genetic drift, and can be a powerful force of evolution.\n",
    "\n",
    "But just like with stochastic population dynamics, what's meaningful here is the distribution of many replications of this kind of population, since each particular instance will be determined by random chance. So let's simulate the ensemble."
   ]
  },
  {
   "cell_type": "code",
   "execution_count": 93,
   "metadata": {},
   "outputs": [
    {
     "data": {
      "image/png": "[encoded data removed]",
      "text/plain": [
       "<Figure size 432x288 with 1 Axes>"
      ]
     },
     "metadata": {
      "needs_background": "light"
     },
     "output_type": "display_data"
    }
   ],
   "source": [
    "n=100 ## population size\n",
    "rep=100 ##how many replicate populations to make\n",
    "ens=np.zeros(rep)\n",
    "duration=200 ## how long to run each population\n",
    "wAA, wBB = (1,1)\n",
    "for j in range(rep):\n",
    "    pp=0.5 ##initialize with p=0.5\n",
    "    for i in range(duration-1):\n",
    "        pp=stochLife(n,pp,wAA,wBB) ##iterates for duration number of times, but doesn't save the whole history\n",
    "    ens[j]=pp ##only saves the final point\n",
    "plt.hist(ens) \n",
    "plt.show() #plots the histogram"
   ]
  },
  {
   "cell_type": "markdown",
   "metadata": {},
   "source": [
    "#### Diploid case"
   ]
  },
  {
   "cell_type": "markdown",
   "metadata": {},
   "source": [
    "Now let's look at the diploid case"
   ]
  },
  {
   "cell_type": "code",
   "execution_count": 103,
   "metadata": {},
   "outputs": [],
   "source": [
    "def pprimedip(p,wAA,wAB,wBB):\n",
    "    wbar=p**2*wAA+2*p*(1-p)*wAB+(1-p)**2*wBB\n",
    "    return 1/wbar*(wAA*p**2+wAB*p*(1-p))"
   ]
  },
  {
   "cell_type": "code",
   "execution_count": 108,
   "metadata": {},
   "outputs": [
    {
     "data": {
      "text/plain": [
       "0.3"
      ]
     },
     "execution_count": 108,
     "metadata": {},
     "output_type": "execute_result"
    }
   ],
   "source": [
    "pprimedip(.3,1,1,1)"
   ]
  },
  {
   "cell_type": "markdown",
   "metadata": {},
   "source": [
    "Again, let's iterate this system forward"
   ]
  },
  {
   "cell_type": "code",
   "execution_count": 110,
   "metadata": {},
   "outputs": [
    {
     "data": {
      "text/plain": [
       "[<matplotlib.lines.Line2D at 0x11fee5c50>]"
      ]
     },
     "execution_count": 110,
     "metadata": {},
     "output_type": "execute_result"
    },
    {
     "data": {
      "image/png": "[encoded data removed]",
      "text/plain": [
       "<Figure size 432x288 with 1 Axes>"
      ]
     },
     "metadata": {
      "needs_background": "light"
     },
     "output_type": "display_data"
    }
   ],
   "source": [
    "duration=200\n",
    "phist=np.zeros(duration)\n",
    "phist[0]=.01\n",
    "s,h=(.1,.5)\n",
    "wAA, wAB, wBB = (1+s,1+h*s,1)\n",
    "for i in range(duration-1):\n",
    "    phist[i+1]=pprimedip(phist[i],wAA,wAB,wBB)\n",
    "plt.plot(phist)"
   ]
  },
  {
   "cell_type": "markdown",
   "metadata": {},
   "source": [
    "Now let's look at the case with underdominance"
   ]
  },
  {
   "cell_type": "code",
   "execution_count": 116,
   "metadata": {},
   "outputs": [
    {
     "data": {
      "text/plain": [
       "[<matplotlib.lines.Line2D at 0x11ff9ba90>]"
      ]
     },
     "execution_count": 116,
     "metadata": {},
     "output_type": "execute_result"
    },
    {
     "data": {
      "image/png": "[encoded data removed]",
      "text/plain": [
       "<Figure size 432x288 with 1 Axes>"
      ]
     },
     "metadata": {
      "needs_background": "light"
     },
     "output_type": "display_data"
    }
   ],
   "source": [
    "duration=200\n",
    "phist=np.zeros(duration)\n",
    "phist[0]=.3\n",
    "s,h=(.1,-.5)\n",
    "wAA, wAB, wBB = (1+s,1+h*s,1)\n",
    "for i in range(duration-1):\n",
    "    phist[i+1]=pprimedip(phist[i],wAA,wAB,wBB)\n",
    "plt.plot(phist)"
   ]
  },
  {
   "cell_type": "markdown",
   "metadata": {},
   "source": [
    "Here's what the mean fitness looks like"
   ]
  },
  {
   "cell_type": "code",
   "execution_count": 118,
   "metadata": {},
   "outputs": [],
   "source": [
    "def wbar(p,wAA,wAB,wBB):\n",
    "    return p**2*wAA+2*p*(1-p)*wAB+(1-p)**2*wBB"
   ]
  },
  {
   "cell_type": "code",
   "execution_count": 126,
   "metadata": {},
   "outputs": [
    {
     "data": {
      "text/plain": [
       "[<matplotlib.lines.Line2D at 0x12005c828>]"
      ]
     },
     "execution_count": 126,
     "metadata": {},
     "output_type": "execute_result"
    },
    {
     "data": {
      "image/png": "[encoded data removed]",
      "text/plain": [
       "<Figure size 432x288 with 1 Axes>"
      ]
     },
     "metadata": {
      "needs_background": "light"
     },
     "output_type": "display_data"
    }
   ],
   "source": [
    "plt.plot(np.linspace(0,1,100), wbar(np.linspace(0,1,100),wAA,wAB,wBB))"
   ]
  },
  {
   "cell_type": "markdown",
   "metadata": {},
   "source": [
    "What happens with overdominance?"
   ]
  },
  {
   "cell_type": "code",
   "execution_count": 128,
   "metadata": {},
   "outputs": [
    {
     "data": {
      "text/plain": [
       "[<matplotlib.lines.Line2D at 0x120482fd0>]"
      ]
     },
     "execution_count": 128,
     "metadata": {},
     "output_type": "execute_result"
    },
    {
     "data": {
      "image/png": "[encoded data removed]",
      "text/plain": [
       "<Figure size 432x288 with 1 Axes>"
      ]
     },
     "metadata": {
      "needs_background": "light"
     },
     "output_type": "display_data"
    }
   ],
   "source": [
    "duration=200\n",
    "phist=np.zeros(duration)\n",
    "phist[0]=.9\n",
    "s,h=(.1,1.5)\n",
    "wAA, wAB, wBB = (1+s,1+h*s,1)\n",
    "for i in range(duration-1):\n",
    "    phist[i+1]=pprimedip(phist[i],wAA,wAB,wBB)\n",
    "plt.plot(phist)"
   ]
  },
  {
   "cell_type": "code",
   "execution_count": 129,
   "metadata": {},
   "outputs": [
    {
     "data": {
      "text/plain": [
       "[<matplotlib.lines.Line2D at 0x11fb1fcf8>]"
      ]
     },
     "execution_count": 129,
     "metadata": {},
     "output_type": "execute_result"
    },
    {
     "data": {
      "image/png": "[encoded data removed]",
      "text/plain": [
       "<Figure size 432x288 with 1 Axes>"
      ]
     },
     "metadata": {
      "needs_background": "light"
     },
     "output_type": "display_data"
    }
   ],
   "source": [
    "plt.plot(np.linspace(0,1,100), wbar(np.linspace(0,1,100),wAA,wAB,wBB))"
   ]
  },
  {
   "cell_type": "markdown",
   "metadata": {},
   "source": [
    "So, under- and over-dominance create cases where the mean fitness is non-monotonic in the frequency of the A allele. This is an example of frequency dependence, where the A allele's fitness (which is the average fitness of the genotypes it finds itself in) is a function of its frequency. "
   ]
  }
 ],
 "metadata": {
  "kernelspec": {
   "display_name": "Python 3",
   "language": "python",
   "name": "python3"
  },
  "language_info": {
   "codemirror_mode": {
    "name": "ipython",
    "version": 3
   },
   "file_extension": ".py",
   "mimetype": "text/x-python",
   "name": "python",
   "nbconvert_exporter": "python",
   "pygments_lexer": "ipython3",
   "version": "3.7.0"
  }
 },
 "nbformat": 4,
 "nbformat_minor": 1
}
