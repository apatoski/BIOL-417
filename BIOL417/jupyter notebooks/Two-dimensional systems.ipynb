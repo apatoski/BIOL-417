{
 "cells": [
  {
   "cell_type": "code",
   "execution_count": 26,
   "metadata": {},
   "outputs": [],
   "source": [
    "%matplotlib inline\n",
    "import numpy as np\n",
    "import matplotlib.pyplot as plt"
   ]
  },
  {
   "cell_type": "code",
   "execution_count": 27,
   "metadata": {},
   "outputs": [],
   "source": [
    "def add_arrow(line, position=None, direction='right', size=15, color=None):\n",
    "    \"\"\"\n",
    "    add an arrow to a line. -- code cribbed from http://stackoverflow.com/questions/34017866/arrow-on-a-line-plot-with-matplotlib\n",
    "\n",
    "    line:       Line2D object\n",
    "    position:   x-position of the arrow. If None, mean of xdata is taken\n",
    "    direction:  'left' or 'right'\n",
    "    size:       size of the arrow in fontsize points\n",
    "    color:      if None, line color is taken.\n",
    "    \"\"\"\n",
    "    if color is None:\n",
    "        color = line.get_color()\n",
    "\n",
    "    xdata = line.get_xdata()\n",
    "    ydata = line.get_ydata()\n",
    "\n",
    "    if position is None:\n",
    "        position = xdata.mean()\n",
    "    # find closest index\n",
    "    start_ind = np.argmin(np.absolute(xdata - position))\n",
    "    if direction == 'right':\n",
    "        end_ind = start_ind + 1\n",
    "    else:\n",
    "        end_ind = start_ind - 1\n",
    "\n",
    "    line.axes.annotate('',\n",
    "        xytext=(xdata[start_ind], ydata[start_ind]),\n",
    "        xy=(xdata[end_ind], ydata[end_ind]),\n",
    "        arrowprops=dict(arrowstyle=\"->\", color=color),\n",
    "        size=size)\n",
    "                       \n",
    "    line.axes.annotate('',\n",
    "        xytext=(xdata[0], ydata[0]),\n",
    "        xy=(xdata[1], ydata[1]),\n",
    "        arrowprops=dict(arrowstyle=\"]-\", color=color),\n",
    "        size=size/3)"
   ]
  },
  {
   "cell_type": "markdown",
   "metadata": {},
   "source": [
    "## Numerics and analysis of two interacting populations in continuous time\n",
    "### Erol Akcay\n",
    "\n",
    "Department of Biology, University of Pennsylvania\n",
    "\n",
    "Bio 417 Spring 2019\n"
   ]
  },
  {
   "cell_type": "markdown",
   "metadata": {},
   "source": [
    "In this notebook, we will draw some graphs to analyze a two-dimensional dynamical system, find its equilibria and use linear stability analysis to determine their stability."
   ]
  },
  {
   "cell_type": "code",
   "execution_count": 28,
   "metadata": {},
   "outputs": [],
   "source": [
    "from scipy import integrate \n",
    "from scipy import optimize"
   ]
  },
  {
   "cell_type": "markdown",
   "metadata": {},
   "source": [
    "Let's define the function for the dynamics, like we did in the one-dimensional case: the only difference here is that the state variable (the first argument of the function) is now an array, and the output is also an array, with each element giving the rate of change for each state variable. The second variable again is time (required for the odeint solver we'll use), followed by all the parameters."
   ]
  },
  {
   "cell_type": "code",
   "execution_count": 29,
   "metadata": {},
   "outputs": [],
   "source": [
    "def lvcomp(n,t,r1,r2,k1,k2,a,b):\n",
    "    return np.array([r1*n[0]*(k1-n[0]-a*n[1])/k1, r2*n[1]*(k2-n[1]-b*n[0])/k2])"
   ]
  },
  {
   "cell_type": "code",
   "execution_count": 30,
   "metadata": {},
   "outputs": [
    {
     "data": {
      "text/plain": [
       "array([0.6 , 0.24])"
      ]
     },
     "execution_count": 30,
     "metadata": {},
     "output_type": "execute_result"
    }
   ],
   "source": [
    "lvcomp([6,6],0,1,1,10,10,.5,.6)"
   ]
  },
  {
   "cell_type": "markdown",
   "metadata": {},
   "source": [
    "Define the jacobian function, i.e.:\n",
    "$$\n",
    "\\left(\\begin{array}{cc}\n",
    "\\frac{\\partial f_{N_1}}{\\partial N_1}&\\frac{\\partial f_{N_1}}{\\partial {N_2}}\\\\\n",
    "\\frac{\\partial f_{N_2}}{\\partial {N_1}}&\\frac{\\partial f_{N_2}}{\\partial {N_2}}\\end{array}\\right)\n",
    "$$"
   ]
  },
  {
   "cell_type": "code",
   "execution_count": 31,
   "metadata": {},
   "outputs": [],
   "source": [
    "def lvcompjac(n,t,r1,r2,k1,k2,a,b):\n",
    "    return np.array([[\n",
    "            (k1-2*n[0]-a*n[1])*r1/k1, - a*n[0]*r1/k1],\n",
    "            [-b*n[1]*r2/k2, (k2-b*n[0]-2*n[1])*r2/k2]\n",
    "        ])"
   ]
  },
  {
   "cell_type": "code",
   "execution_count": 32,
   "metadata": {},
   "outputs": [
    {
     "data": {
      "text/plain": [
       "array([[-0.25, -0.25],\n",
       "       [-0.3 , -0.3 ]])"
      ]
     },
     "execution_count": 32,
     "metadata": {},
     "output_type": "execute_result"
    }
   ],
   "source": [
    "lvcompjac([5,5],0,1,1,10,10,.5,.6)"
   ]
  },
  {
   "cell_type": "markdown",
   "metadata": {},
   "source": [
    "Below, we use the optimize.root() function to find the equilibrium of the system. Root solves for the values of the state variables that make a given  function equal to zero. It returns an OptimizeResult object, which includes information about the location of the root."
   ]
  },
  {
   "cell_type": "code",
   "execution_count": 33,
   "metadata": {},
   "outputs": [],
   "source": [
    "eqn = optimize.root(lvcomp,[8,9], args=(0,1,1,10,20,.2,.9))"
   ]
  },
  {
   "cell_type": "markdown",
   "metadata": {},
   "source": [
    "This gives the location of the root that's found."
   ]
  },
  {
   "cell_type": "code",
   "execution_count": 34,
   "metadata": {},
   "outputs": [
    {
     "data": {
      "text/plain": [
       "array([ 7.31707317, 13.41463415])"
      ]
     },
     "execution_count": 34,
     "metadata": {},
     "output_type": "execute_result"
    }
   ],
   "source": [
    "eqn.x"
   ]
  },
  {
   "cell_type": "code",
   "execution_count": 35,
   "metadata": {},
   "outputs": [
    {
     "data": {
      "text/plain": [
       "array([-8.73772599e-13,  1.17364655e-11])"
      ]
     },
     "execution_count": 35,
     "metadata": {},
     "output_type": "execute_result"
    }
   ],
   "source": [
    "lvcomp(eqn.x,0,1,1,10,20,.2,.9)"
   ]
  },
  {
   "cell_type": "markdown",
   "metadata": {},
   "source": [
    "Note that the root finder algorithms are local algorithms, that is, they start with the initial values you give them (the second argument in optimize.root() and work towards the \"nearest\" root. This means that if there are multiple roots of the function (as is frequently the case), you may converge to one or the other. \n",
    "\n",
    "Now that we have a root, we can compute the jacobian at that root."
   ]
  },
  {
   "cell_type": "code",
   "execution_count": 36,
   "metadata": {},
   "outputs": [
    {
     "data": {
      "text/plain": [
       "array([[-0.73170732, -0.14634146],\n",
       "       [-0.60365854, -0.67073171]])"
      ]
     },
     "execution_count": 36,
     "metadata": {},
     "output_type": "execute_result"
    }
   ],
   "source": [
    "lvcompjac(eqn.x,0,1,1,10,20,.2,.9)"
   ]
  },
  {
   "cell_type": "code",
   "execution_count": 37,
   "metadata": {},
   "outputs": [
    {
     "data": {
      "text/plain": [
       "(array([-0.62856046, -2.44461027]), array([[ 0.81737029,  0.08512466],\n",
       "        [-0.57611268,  0.99637031]]))"
      ]
     },
     "execution_count": 37,
     "metadata": {},
     "output_type": "execute_result"
    }
   ],
   "source": [
    "np.linalg.eig(lvcompjac(eqn.x,0,1,1,10,10,.2,.9))"
   ]
  },
  {
   "cell_type": "code",
   "execution_count": 38,
   "metadata": {},
   "outputs": [],
   "source": [
    "timevec = np.linspace(0,50,1000)\n",
    "traj = integrate.odeint(lvcomp, np.array([5,5]), timevec, args = (1,1,10,20,.2,.9))"
   ]
  },
  {
   "cell_type": "code",
   "execution_count": 39,
   "metadata": {},
   "outputs": [],
   "source": [
    "n1, n2 = traj.T"
   ]
  },
  {
   "cell_type": "code",
   "execution_count": 40,
   "metadata": {},
   "outputs": [
    {
     "data": {
      "text/plain": [
       "[<matplotlib.lines.Line2D at 0x120532e48>]"
      ]
     },
     "execution_count": 40,
     "metadata": {},
     "output_type": "execute_result"
    },
    {
     "data": {
      "image/png": "[encoded data removed]",
      "text/plain": [
       "<Figure size 432x288 with 1 Axes>"
      ]
     },
     "metadata": {
      "needs_background": "light"
     },
     "output_type": "display_data"
    }
   ],
   "source": [
    "plt.plot(timevec, n1,'r')\n",
    "plt.plot(timevec, n2,'b')"
   ]
  },
  {
   "cell_type": "code",
   "execution_count": 41,
   "metadata": {},
   "outputs": [
    {
     "data": {
      "image/png": "[encoded data removed]",
      "text/plain": [
       "<Figure size 432x288 with 1 Axes>"
      ]
     },
     "metadata": {
      "needs_background": "light"
     },
     "output_type": "display_data"
    }
   ],
   "source": [
    "n1, n2 = traj.T\n",
    "traplot = plt.plot(n1,n2)[0]\n",
    "add_arrow(traplot)"
   ]
  },
  {
   "cell_type": "code",
   "execution_count": 51,
   "metadata": {},
   "outputs": [
    {
     "data": {
      "image/png": "[encoded data removed]",
      "text/plain": [
       "<Figure size 432x288 with 1 Axes>"
      ]
     },
     "metadata": {
      "needs_background": "light"
     },
     "output_type": "display_data"
    }
   ],
   "source": [
    "params = (1,1,10,10,1.4,1.6)\n",
    "eqn = optimize.root(lvcomp,[7,9], args= (0,)+params)\n",
    "for i in range(20):\n",
    "    traj = integrate.odeint(lvcomp, np.array(np.random.rand(2)*10), timevec, args = params)\n",
    "    n1, n2 = traj.T\n",
    "    traplot = plt.plot(n1,n2)[0]\n",
    "    add_arrow(traplot)\n",
    "eqpoint = plt.Circle(eqn.x, .2, color='black', fill=True)\n",
    "plt.gca().add_patch(eqpoint)\n",
    "plt.axes().set_aspect('equal', 'datalim')\n",
    "plt.xlabel('$N_1$')\n",
    "plt.ylabel('$N_2$')\n",
    "plt.show()"
   ]
  },
  {
   "cell_type": "markdown",
   "metadata": {},
   "source": [
    "Calculate the jacobian, and see that one of the eigenvalues is positive."
   ]
  },
  {
   "cell_type": "code",
   "execution_count": 52,
   "metadata": {},
   "outputs": [
    {
     "data": {
      "text/plain": [
       "(array([ 0.19354839, -1.        ]), array([[ 0.65850461,  0.5547002 ],\n",
       "        [-0.75257669,  0.83205029]]))"
      ]
     },
     "execution_count": 52,
     "metadata": {},
     "output_type": "execute_result"
    }
   ],
   "source": [
    "dum = (eqn.x,0)+params # create a tuple using the tuple params in the required format for inputting into lvcompjac\n",
    "np.linalg.eig(lvcompjac(*dum))"
   ]
  },
  {
   "cell_type": "markdown",
   "metadata": {},
   "source": [
    "#### LV Prey-predator dynamics"
   ]
  },
  {
   "cell_type": "markdown",
   "metadata": {},
   "source": [
    "Now let's look at another fundamental ecological interaction: dynamics of prey and predator"
   ]
  },
  {
   "cell_type": "code",
   "execution_count": 18,
   "metadata": {},
   "outputs": [],
   "source": [
    "def lvpreypred(n,t,r,a,b,d):\n",
    "    return np.array([(r-a*n[1])*n[0], (b*n[0]-d)*n[1]])"
   ]
  },
  {
   "cell_type": "code",
   "execution_count": 19,
   "metadata": {},
   "outputs": [
    {
     "data": {
      "text/plain": [
       "array([10.,  5.])"
      ]
     },
     "execution_count": 19,
     "metadata": {},
     "output_type": "execute_result"
    }
   ],
   "source": [
    "eqn = optimize.root(lvpreypred,[8,9], args=(0,1,0.2,0.1,1))\n",
    "eqn.x"
   ]
  },
  {
   "cell_type": "code",
   "execution_count": 20,
   "metadata": {},
   "outputs": [
    {
     "data": {
      "text/plain": [
       "[<matplotlib.lines.Line2D at 0x11b201898>]"
      ]
     },
     "execution_count": 20,
     "metadata": {},
     "output_type": "execute_result"
    },
    {
     "data": {
      "image/png": "[encoded data removed]",
      "text/plain": [
       "<Figure size 432x288 with 1 Axes>"
      ]
     },
     "metadata": {
      "needs_background": "light"
     },
     "output_type": "display_data"
    }
   ],
   "source": [
    "timevec = np.linspace(0,50,1000)\n",
    "traj = integrate.odeint(lvpreypred, np.array([5,5]), timevec, args=(1,0.2,0.1,1))\n",
    "vv, pp = traj.T\n",
    "plt.plot(timevec,vv,'r')\n",
    "plt.plot(timevec,pp,'b')"
   ]
  },
  {
   "cell_type": "code",
   "execution_count": 21,
   "metadata": {},
   "outputs": [
    {
     "data": {
      "image/png": "[encoded data removed]",
      "text/plain": [
       "<Figure size 432x288 with 1 Axes>"
      ]
     },
     "metadata": {
      "needs_background": "light"
     },
     "output_type": "display_data"
    }
   ],
   "source": [
    "for i in range(5):\n",
    "    traj = integrate.odeint(lvpreypred, np.array([i+1,i+1]), timevec, args=(1,0.2,0.1,1))\n",
    "    vv, pp = traj.T\n",
    "    plt.plot(vv,pp)"
   ]
  },
  {
   "cell_type": "markdown",
   "metadata": {},
   "source": [
    "So, we have neutrally stable cycles, i.e., the population keeps staying on a given cycle that's completely determined by the initial conditions.\n",
    "\n",
    "Let's check the Jacobian. But instead of writing a new function for the jacobian of every dynamics, let's write a function that symbolically differentiates the dynamics and computes the value."
   ]
  },
  {
   "cell_type": "code",
   "execution_count": 22,
   "metadata": {},
   "outputs": [],
   "source": [
    "import sympy as sym\n",
    "v = sym.symbols('v')\n",
    "p = sym.symbols('p')"
   ]
  },
  {
   "cell_type": "code",
   "execution_count": 23,
   "metadata": {},
   "outputs": [],
   "source": [
    "def jacob(fun, n1, n2, argum=(),initval=[5,6]):\n",
    "    dum = ([n1,n2],)+argum\n",
    "    eq = optimize.root(fun,initval,args=argum) #find the equilibrium, may need playing around with initval\n",
    "    dum1, dum2 = fun(*dum)\n",
    "    jaco = [[sym.diff(dum1,n1),sym.diff(dum1,n2)],\n",
    "                  [sym.diff(dum2,n1),sym.diff(dum2,n2)]] #symbolically evaluate the derivatives\n",
    "    jaco = np.asarray([[jaco[i][j].subs([(n1,eq.x[0]),(n2,eq.x[1])]) for j in range(2)] for i in range(2)])# substitute the equilibrium values\n",
    "    return [eq.x, jaco.astype(np.float64)]"
   ]
  },
  {
   "cell_type": "code",
   "execution_count": 24,
   "metadata": {},
   "outputs": [
    {
     "data": {
      "text/plain": [
       "array([[ 0., -1.],\n",
       "       [ 1.,  0.]])"
      ]
     },
     "execution_count": 24,
     "metadata": {},
     "output_type": "execute_result"
    }
   ],
   "source": [
    "equ, jack = jacob(lvpreypred,v,p,argum=(2,1,.1,.1,1),initval=[8,10])\n",
    "jack"
   ]
  },
  {
   "cell_type": "code",
   "execution_count": 25,
   "metadata": {},
   "outputs": [
    {
     "data": {
      "text/plain": [
       "(array([0.+1.j, 0.-1.j]),\n",
       " array([[0.70710678+0.j        , 0.70710678-0.j        ],\n",
       "        [0.        -0.70710678j, 0.        +0.70710678j]]))"
      ]
     },
     "execution_count": 25,
     "metadata": {},
     "output_type": "execute_result"
    }
   ],
   "source": [
    "np.linalg.eig(jack)"
   ]
  },
  {
   "cell_type": "markdown",
   "metadata": {},
   "source": [
    "Let's add density dependence of the prey now."
   ]
  },
  {
   "cell_type": "code",
   "execution_count": 26,
   "metadata": {
    "collapsed": true
   },
   "outputs": [],
   "source": [
    "def lvpreypredDD(n,t,r,a,b,d,k):\n",
    "    return np.array([(r*(k-n[0])/k-a*n[1])*n[0], (b*n[0]-d)*n[1]])"
   ]
  },
  {
   "cell_type": "code",
   "execution_count": 27,
   "metadata": {},
   "outputs": [
    {
     "data": {
      "text/plain": [
       "[<matplotlib.lines.Line2D at 0x109ec2dd8>]"
      ]
     },
     "execution_count": 27,
     "metadata": {},
     "output_type": "execute_result"
    },
    {
     "data": {
      "image/png": "[encoded data removed]",
      "text/plain": [
       "<matplotlib.figure.Figure at 0x10ad8fba8>"
      ]
     },
     "metadata": {},
     "output_type": "display_data"
    }
   ],
   "source": [
    "timevec = np.linspace(0,50,1000)\n",
    "traj = integrate.odeint(lvpreypredDD, np.array([1,1]), timevec, args=(1,0.1,0.1,1,20))\n",
    "vv, pp = traj.T\n",
    "plt.plot(timevec,vv,'r')\n",
    "plt.plot(timevec,pp,'b')"
   ]
  },
  {
   "cell_type": "markdown",
   "metadata": {},
   "source": [
    "Now we seem to have (oscillatory) convergence to a stable equilibrium. Let's check the stability of this equilibrium with the Jacobian. "
   ]
  },
  {
   "cell_type": "code",
   "execution_count": 28,
   "metadata": {},
   "outputs": [
    {
     "data": {
      "text/plain": [
       "array([[ -5.00000000e-01,  -1.00000000e+00],\n",
       "       [  5.00000000e-01,   7.79376563e-14]])"
      ]
     },
     "execution_count": 28,
     "metadata": {},
     "output_type": "execute_result"
    }
   ],
   "source": [
    "equ, jack = jacob(lvpreypredDD,v,p,argum=(2,1,.1,.1,1,20),initval=[16,10])\n",
    "jack"
   ]
  },
  {
   "cell_type": "code",
   "execution_count": 29,
   "metadata": {},
   "outputs": [
    {
     "data": {
      "text/plain": [
       "array([ 10.,   5.])"
      ]
     },
     "execution_count": 29,
     "metadata": {},
     "output_type": "execute_result"
    }
   ],
   "source": [
    "equ"
   ]
  },
  {
   "cell_type": "code",
   "execution_count": 30,
   "metadata": {},
   "outputs": [
    {
     "data": {
      "text/plain": [
       "(array([-0.25+0.66143783j, -0.25-0.66143783j]),\n",
       " array([[ 0.81649658+0.j        ,  0.81649658-0.j        ],\n",
       "        [-0.20412415-0.54006172j, -0.20412415+0.54006172j]]))"
      ]
     },
     "execution_count": 30,
     "metadata": {},
     "output_type": "execute_result"
    }
   ],
   "source": [
    "np.linalg.eig(jack)"
   ]
  },
  {
   "cell_type": "code",
   "execution_count": 31,
   "metadata": {
    "collapsed": true
   },
   "outputs": [],
   "source": [
    "def lvpreypredTT(n,t,r,a,b,d,h):\n",
    "    return np.array([(r-a*n[1]/(n[0]+h))*n[0], (b*n[0]/(n[0]+h)-d)*n[1]])"
   ]
  },
  {
   "cell_type": "code",
   "execution_count": 32,
   "metadata": {},
   "outputs": [
    {
     "data": {
      "text/plain": [
       "[<matplotlib.lines.Line2D at 0x109ed4b70>]"
      ]
     },
     "execution_count": 32,
     "metadata": {},
     "output_type": "execute_result"
    },
    {
     "data": {
      "image/png": "[encoded data removed]",
      "text/plain": [
       "<matplotlib.figure.Figure at 0x109eaf978>"
      ]
     },
     "metadata": {},
     "output_type": "display_data"
    }
   ],
   "source": [
    "timevec = np.linspace(0,100,1000)\n",
    "traj = integrate.odeint(lvpreypredTT, np.array([21.4,178.57]), timevec, args=(.5,0.2,1,.3,50))\n",
    "vv, pp = traj.T\n",
    "plt.plot(timevec,vv,'r')\n",
    "plt.plot(timevec,pp,'b')"
   ]
  },
  {
   "cell_type": "code",
   "execution_count": 33,
   "metadata": {},
   "outputs": [
    {
     "data": {
      "text/plain": [
       "[<matplotlib.lines.Line2D at 0x10b1107f0>]"
      ]
     },
     "execution_count": 33,
     "metadata": {},
     "output_type": "execute_result"
    },
    {
     "data": {
      "image/png": "[encoded data removed]",
      "text/plain": [
       "<matplotlib.figure.Figure at 0x109d02ef0>"
      ]
     },
     "metadata": {},
     "output_type": "display_data"
    }
   ],
   "source": [
    "plt.plot(vv,pp)"
   ]
  },
  {
   "cell_type": "code",
   "execution_count": 34,
   "metadata": {},
   "outputs": [],
   "source": [
    "equ, jack = jacob(lvpreypredTT,v,p,argum=(0,.5,0.2,1,.3,50),initval=[100,1000])"
   ]
  },
  {
   "cell_type": "code",
   "execution_count": 35,
   "metadata": {},
   "outputs": [
    {
     "data": {
      "text/plain": [
       "array([  21.42857143,  178.57142857])"
      ]
     },
     "execution_count": 35,
     "metadata": {},
     "output_type": "execute_result"
    }
   ],
   "source": [
    "equ"
   ]
  },
  {
   "cell_type": "code",
   "execution_count": 36,
   "metadata": {},
   "outputs": [
    {
     "data": {
      "text/plain": [
       "(array([ 0.075+0.31523801j,  0.075-0.31523801j]),\n",
       " array([[ 0.04214082+0.17712516j,  0.04214082-0.17712516j],\n",
       "        [ 0.98328573+0.j        ,  0.98328573-0.j        ]]))"
      ]
     },
     "execution_count": 36,
     "metadata": {},
     "output_type": "execute_result"
    }
   ],
   "source": [
    "np.linalg.eig(jack)"
   ]
  }
 ],
 "metadata": {
  "kernelspec": {
   "display_name": "Python 3",
   "language": "python",
   "name": "python3"
  },
  "language_info": {
   "codemirror_mode": {
    "name": "ipython",
    "version": 3
   },
   "file_extension": ".py",
   "mimetype": "text/x-python",
   "name": "python",
   "nbconvert_exporter": "python",
   "pygments_lexer": "ipython3",
   "version": "3.7.0"
  }
 },
 "nbformat": 4,
 "nbformat_minor": 1
}
