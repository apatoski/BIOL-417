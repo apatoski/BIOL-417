{
 "cells": [
  {
   "cell_type": "code",
   "execution_count": 1,
   "metadata": {
    "collapsed": true
   },
   "outputs": [],
   "source": [
    "%matplotlib inline\n",
    "import numpy as np\n",
    "import matplotlib.pyplot as plt"
   ]
  },
  {
   "cell_type": "code",
   "execution_count": 2,
   "metadata": {},
   "outputs": [],
   "source": [
    "def gompertz(n,a,k):\n",
    "    return -a*n*np.log(n/k)"
   ]
  },
  {
   "cell_type": "code",
   "execution_count": 12,
   "metadata": {},
   "outputs": [
    {
     "data": {
      "text/plain": [
       "<matplotlib.patches.Circle at 0x1073fc160>"
      ]
     },
     "execution_count": 12,
     "metadata": {},
     "output_type": "execute_result"
    },
    {
     "data": {
      "image/png": "[encoded data removed]",
      "text/plain": [
       "<matplotlib.figure.Figure at 0x10789c828>"
      ]
     },
     "metadata": {},
     "output_type": "display_data"
    }
   ],
   "source": [
    "n_vec=np.linspace(.01,40,100)\n",
    "dndt_vec = gompertz(n_vec, 1, 30)\n",
    "plt.plot(n_vec, dndt_vec)\n",
    "plt.plot(np.zeros(40))\n",
    "plt.ylabel(\"dN/dt\")\n",
    "plt.xlabel(\"N\")\n",
    "plt.arrow(0, 0, 28, 0, fc=\"k\", width=.2, ec=\"k\", head_width=1.2, head_length=2 )\n",
    "plt.arrow(40, 0, -8, 0, fc=\"k\", width=.2, ec=\"k\",head_width=1.2, head_length=2 )\n",
    "eq1=plt.Circle((30,0), .8, color='black', fill=True)\n",
    "eq0=plt.Circle((0,0), .8, color='black', fill=False)\n",
    "plt.gca().add_patch(eq1)\n",
    "plt.gca().add_patch(eq0)"
   ]
  }
 ],
 "metadata": {
  "kernelspec": {
   "display_name": "Python 3",
   "language": "python",
   "name": "python3"
  },
  "language_info": {
   "codemirror_mode": {
    "name": "ipython",
    "version": 3
   },
   "file_extension": ".py",
   "mimetype": "text/x-python",
   "name": "python",
   "nbconvert_exporter": "python",
   "pygments_lexer": "ipython3",
   "version": "3.7.0"
  }
 },
 "nbformat": 4,
 "nbformat_minor": 1
}
